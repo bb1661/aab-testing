{
 "cells": [
  {
   "cell_type": "code",
   "execution_count": 30,
   "id": "8c05231f-fd59-4032-9c41-6781f3aef5d5",
   "metadata": {},
   "outputs": [],
   "source": [
    "import pandas as pd\n",
    "import pandahouse as ph\n",
    "import seaborn as sns\n",
    "import scipy as sp\n",
    "import numpy as np"
   ]
  },
  {
   "cell_type": "code",
   "execution_count": 31,
   "id": "16d5274e-cec9-42c7-af07-b4b37bb4a2d0",
   "metadata": {},
   "outputs": [],
   "source": [
    "connection = {'host': 'http://clickhouse.beslan.pro:8080',\n",
    "                      'database':'simulator',\n",
    "                      'user':'student', \n",
    "                      'password':'dpo_python_2020'\n",
    "                     }\n"
   ]
  },
  {
   "cell_type": "code",
   "execution_count": 32,
   "id": "ccaf81f5-45cc-40f5-8e4a-719414b1b3b2",
   "metadata": {},
   "outputs": [
    {
     "data": {
      "text/html": [
       "<div>\n",
       "<style scoped>\n",
       "    .dataframe tbody tr th:only-of-type {\n",
       "        vertical-align: middle;\n",
       "    }\n",
       "\n",
       "    .dataframe tbody tr th {\n",
       "        vertical-align: top;\n",
       "    }\n",
       "\n",
       "    .dataframe thead th {\n",
       "        text-align: right;\n",
       "    }\n",
       "</style>\n",
       "<table border=\"1\" class=\"dataframe\">\n",
       "  <thead>\n",
       "    <tr style=\"text-align: right;\">\n",
       "      <th></th>\n",
       "      <th>user_id</th>\n",
       "      <th>likes</th>\n",
       "      <th>views</th>\n",
       "      <th>ctr</th>\n",
       "    </tr>\n",
       "    <tr>\n",
       "      <th>exp_group</th>\n",
       "      <th></th>\n",
       "      <th></th>\n",
       "      <th></th>\n",
       "      <th></th>\n",
       "    </tr>\n",
       "  </thead>\n",
       "  <tbody>\n",
       "    <tr>\n",
       "      <th>1</th>\n",
       "      <td>10079</td>\n",
       "      <td>10079</td>\n",
       "      <td>10079</td>\n",
       "      <td>10079</td>\n",
       "    </tr>\n",
       "    <tr>\n",
       "      <th>2</th>\n",
       "      <td>9952</td>\n",
       "      <td>9952</td>\n",
       "      <td>9952</td>\n",
       "      <td>9952</td>\n",
       "    </tr>\n",
       "  </tbody>\n",
       "</table>\n",
       "</div>"
      ],
      "text/plain": [
       "           user_id  likes  views    ctr\n",
       "exp_group                              \n",
       "1            10079  10079  10079  10079\n",
       "2             9952   9952   9952   9952"
      ]
     },
     "execution_count": 32,
     "metadata": {},
     "output_type": "execute_result"
    }
   ],
   "source": [
    "q = \"\"\"\n",
    "SELECT exp_group, \n",
    "    user_id,\n",
    "    sum(action = 'like') as likes,\n",
    "    sum(action = 'view') as views,\n",
    "    likes/views as ctr\n",
    "FROM simulator_20221020.feed_actions \n",
    "WHERE toDate(time) between '2022-10-03' and '2022-10-09'\n",
    "    and exp_group in (1,2)\n",
    "GROUP BY exp_group, user_id\n",
    "\"\"\"\n",
    "\n",
    "df = ph.read_clickhouse(q, connection=connection)\n",
    "\n",
    "df.groupby('exp_group').count()"
   ]
  },
  {
   "cell_type": "code",
   "execution_count": 33,
   "id": "8efbaa84-cc70-48c7-9092-5dfddc0532ad",
   "metadata": {},
   "outputs": [
    {
     "data": {
      "text/html": [
       "<div>\n",
       "<style scoped>\n",
       "    .dataframe tbody tr th:only-of-type {\n",
       "        vertical-align: middle;\n",
       "    }\n",
       "\n",
       "    .dataframe tbody tr th {\n",
       "        vertical-align: top;\n",
       "    }\n",
       "\n",
       "    .dataframe thead th {\n",
       "        text-align: right;\n",
       "    }\n",
       "</style>\n",
       "<table border=\"1\" class=\"dataframe\">\n",
       "  <thead>\n",
       "    <tr style=\"text-align: right;\">\n",
       "      <th></th>\n",
       "      <th>exp_group</th>\n",
       "      <th>user_id</th>\n",
       "      <th>likes</th>\n",
       "      <th>views</th>\n",
       "      <th>ctr</th>\n",
       "    </tr>\n",
       "  </thead>\n",
       "  <tbody>\n",
       "    <tr>\n",
       "      <th>0</th>\n",
       "      <td>1</td>\n",
       "      <td>109963</td>\n",
       "      <td>3</td>\n",
       "      <td>15</td>\n",
       "      <td>0.200000</td>\n",
       "    </tr>\n",
       "    <tr>\n",
       "      <th>1</th>\n",
       "      <td>1</td>\n",
       "      <td>26117</td>\n",
       "      <td>32</td>\n",
       "      <td>141</td>\n",
       "      <td>0.226950</td>\n",
       "    </tr>\n",
       "    <tr>\n",
       "      <th>2</th>\n",
       "      <td>1</td>\n",
       "      <td>138232</td>\n",
       "      <td>18</td>\n",
       "      <td>73</td>\n",
       "      <td>0.246575</td>\n",
       "    </tr>\n",
       "    <tr>\n",
       "      <th>3</th>\n",
       "      <td>1</td>\n",
       "      <td>26295</td>\n",
       "      <td>33</td>\n",
       "      <td>122</td>\n",
       "      <td>0.270492</td>\n",
       "    </tr>\n",
       "    <tr>\n",
       "      <th>4</th>\n",
       "      <td>1</td>\n",
       "      <td>18392</td>\n",
       "      <td>7</td>\n",
       "      <td>32</td>\n",
       "      <td>0.218750</td>\n",
       "    </tr>\n",
       "    <tr>\n",
       "      <th>...</th>\n",
       "      <td>...</td>\n",
       "      <td>...</td>\n",
       "      <td>...</td>\n",
       "      <td>...</td>\n",
       "      <td>...</td>\n",
       "    </tr>\n",
       "    <tr>\n",
       "      <th>20026</th>\n",
       "      <td>1</td>\n",
       "      <td>132567</td>\n",
       "      <td>45</td>\n",
       "      <td>296</td>\n",
       "      <td>0.152027</td>\n",
       "    </tr>\n",
       "    <tr>\n",
       "      <th>20027</th>\n",
       "      <td>1</td>\n",
       "      <td>30872</td>\n",
       "      <td>11</td>\n",
       "      <td>59</td>\n",
       "      <td>0.186441</td>\n",
       "    </tr>\n",
       "    <tr>\n",
       "      <th>20028</th>\n",
       "      <td>2</td>\n",
       "      <td>25383</td>\n",
       "      <td>42</td>\n",
       "      <td>127</td>\n",
       "      <td>0.330709</td>\n",
       "    </tr>\n",
       "    <tr>\n",
       "      <th>20029</th>\n",
       "      <td>2</td>\n",
       "      <td>139020</td>\n",
       "      <td>24</td>\n",
       "      <td>114</td>\n",
       "      <td>0.210526</td>\n",
       "    </tr>\n",
       "    <tr>\n",
       "      <th>20030</th>\n",
       "      <td>2</td>\n",
       "      <td>17310</td>\n",
       "      <td>9</td>\n",
       "      <td>82</td>\n",
       "      <td>0.109756</td>\n",
       "    </tr>\n",
       "  </tbody>\n",
       "</table>\n",
       "<p>20031 rows × 5 columns</p>\n",
       "</div>"
      ],
      "text/plain": [
       "       exp_group  user_id  likes  views       ctr\n",
       "0              1   109963      3     15  0.200000\n",
       "1              1    26117     32    141  0.226950\n",
       "2              1   138232     18     73  0.246575\n",
       "3              1    26295     33    122  0.270492\n",
       "4              1    18392      7     32  0.218750\n",
       "...          ...      ...    ...    ...       ...\n",
       "20026          1   132567     45    296  0.152027\n",
       "20027          1    30872     11     59  0.186441\n",
       "20028          2    25383     42    127  0.330709\n",
       "20029          2   139020     24    114  0.210526\n",
       "20030          2    17310      9     82  0.109756\n",
       "\n",
       "[20031 rows x 5 columns]"
      ]
     },
     "execution_count": 33,
     "metadata": {},
     "output_type": "execute_result"
    }
   ],
   "source": [
    "df"
   ]
  },
  {
   "cell_type": "code",
   "execution_count": 34,
   "id": "2d108625-0c5b-40f5-a246-a9d0ddd122a4",
   "metadata": {},
   "outputs": [
    {
     "data": {
      "image/png": "[encoded data removed]",
      "text/plain": [
       "<Figure size 842.4x595.44 with 1 Axes>"
      ]
     },
     "metadata": {},
     "output_type": "display_data"
    }
   ],
   "source": [
    "sns.set(rc={'figure.figsize':(11.7,8.27)})\n",
    "\n",
    "groups = sns.histplot(data = df, \n",
    "              x='ctr', \n",
    "              hue='exp_group', \n",
    "              palette = ['r', 'b'],\n",
    "              alpha=0.5,\n",
    "              kde=False)"
   ]
  },
  {
   "cell_type": "code",
   "execution_count": 35,
   "id": "2610d27e-4b28-41c6-964c-ddce5969eef1",
   "metadata": {},
   "outputs": [
    {
     "name": "stdout",
     "output_type": "stream",
     "text": [
      "Среднее по группе 1: 0.21560459841296287\n",
      "Среднее по группе 2: 0.21441927347479375\n"
     ]
    }
   ],
   "source": [
    "mean1=df[df.exp_group == 1].ctr.mean()\n",
    "mean2=df[df.exp_group == 2].ctr.mean()\n",
    "print('Среднее по группе 1:', mean1)\n",
    "print('Среднее по группе 2:', mean2)"
   ]
  },
  {
   "cell_type": "code",
   "execution_count": 8,
   "id": "d76bfd08-daec-4f43-9fb8-e06005b4177a",
   "metadata": {},
   "outputs": [
    {
     "name": "stdout",
     "output_type": "stream",
     "text": [
      "t-test pvalue:  0.4780623130874935 , Гипотеза о присутствии отличий не принята\n"
     ]
    }
   ],
   "source": [
    "ttest_pval=sp.stats.ttest_ind(df[df.exp_group == 1].ctr,\n",
    "                df[df.exp_group == 2].ctr,\n",
    "                equal_var=False)\n",
    "\n",
    "if ttest_pval[1]>0.05:\n",
    "    print('t-test pvalue: ',ttest_pval[1],', Гипотеза о присутствии отличий не принята')\n",
    "else:\n",
    "    print('t-test pvalue: ',ttest_pval[1],', Гипотеза о присутствии отличий принята')"
   ]
  },
  {
   "cell_type": "code",
   "execution_count": 42,
   "id": "94f20a74-48ac-4d24-a278-8d39ee97f2c1",
   "metadata": {},
   "outputs": [
    {
     "name": "stdout",
     "output_type": "stream",
     "text": [
      "Mannwhitney pvalue:  6.0376484617779035e-56 , Гипотеза о присутствии отличий принята\n"
     ]
    }
   ],
   "source": [
    "mw_pval=sp.stats.mannwhitneyu(df[df.exp_group == 1].ctr, \n",
    "                   df[df.exp_group == 2].ctr,\n",
    "                   alternative = 'two-sided')\n",
    "\n",
    "if mw_pval[1]>0.05:\n",
    "    print('Mannwhitney pvalue: ',mw_pval[1],', Гипотеза о присутствии отличий не принята')\n",
    "else:\n",
    "    print('Mannwhitney pvalue: ',mw_pval[1],', Гипотеза о присутствии отличий принята')"
   ]
  },
  {
   "cell_type": "raw",
   "id": "5c9b57ad-48f0-47c9-950a-da5c01fca89e",
   "metadata": {},
   "source": [
    "Тесты отработали разнозначно из-за бимодальности получившегося во второй группе распределения. \n",
    "\n",
    "\n",
    "\n"
   ]
  },
  {
   "cell_type": "code",
   "execution_count": 10,
   "id": "5a356fa2-ce4b-409c-afe1-83333035444c",
   "metadata": {},
   "outputs": [],
   "source": [
    "def get_smothed_ctr(user_likes, user_views, global_ctr, alpha):\n",
    "    smothed_ctr = (user_likes + alpha * global_ctr) / (user_views + alpha)\n",
    "    return smothed_ctr"
   ]
  },
  {
   "cell_type": "code",
   "execution_count": 11,
   "id": "084322ad-992c-4821-8d1f-41b79ddfdb97",
   "metadata": {},
   "outputs": [
    {
     "data": {
      "text/plain": [
       "<AxesSubplot:xlabel='sm_ctr', ylabel='Count'>"
      ]
     },
     "execution_count": 11,
     "metadata": {},
     "output_type": "execute_result"
    },
    {
     "data": {
      "image/png": "[encoded data removed]",
      "text/plain": [
       "<Figure size 842.4x595.44 with 1 Axes>"
      ]
     },
     "metadata": {},
     "output_type": "display_data"
    }
   ],
   "source": [
    "global_ctr_1 = df[df.exp_group == 1].likes.sum()/df[df.exp_group == 1].views.sum()\n",
    "global_ctr_2 = df[df.exp_group == 2].likes.sum()/df[df.exp_group == 2].views.sum()\n",
    "\n",
    "group1 = df[df.exp_group == 1].copy()\n",
    "group1['sm_ctr']=group1.apply(lambda x: get_smothed_ctr(x['likes'],x['views'],global_ctr_1,5),axis=1)\n",
    "\n",
    "group2 = df[df.exp_group == 2].copy()\n",
    "group2['sm_ctr']=group2.apply(lambda x: get_smothed_ctr(x['likes'],x['views'],global_ctr_2,5),axis=1)\n",
    "\n",
    "sns.histplot(data=group1,x='sm_ctr',color='blue')\n",
    "sns.histplot(data=group2,x='sm_ctr',color='red')"
   ]
  },
  {
   "cell_type": "code",
   "execution_count": 43,
   "id": "1ccb45ac-c9b8-4ab3-858b-0d465a17631f",
   "metadata": {},
   "outputs": [
    {
     "data": {
      "text/plain": [
       "<AxesSubplot:xlabel='ctr', ylabel='Count'>"
      ]
     },
     "execution_count": 43,
     "metadata": {},
     "output_type": "execute_result"
    },
    {
     "data": {
      "image/png": "[encoded data removed]",
      "text/plain": [
       "<Figure size 842.4x595.44 with 1 Axes>"
      ]
     },
     "metadata": {},
     "output_type": "display_data"
    }
   ],
   "source": [
    "sns.histplot(data = group2, \n",
    "              x='ctr', \n",
    "              palette = ['r'],\n",
    "              alpha=0.5,\n",
    "              kde=False)\n",
    "sns.histplot(data = group2, \n",
    "              x='sm_ctr',  \n",
    "              palette = ['b'],\n",
    "              alpha=0.5,\n",
    "              kde=False)"
   ]
  },
  {
   "cell_type": "raw",
   "id": "84555de7-f266-4f10-8665-fbced373a836",
   "metadata": {},
   "source": [
    "Сглаженный CTR немного сгладил данные, и дальнейшие тесты смогли найти различия. Выше как раз показаны различия сглаженных данных от фактических."
   ]
  },
  {
   "cell_type": "code",
   "execution_count": 12,
   "id": "76608294-462f-4ccc-979e-88ac3c1bd539",
   "metadata": {},
   "outputs": [
    {
     "name": "stdout",
     "output_type": "stream",
     "text": [
      "t-test pvalue:  0.0223769815558559 , Гипотеза о присутствии отличий принята\n"
     ]
    }
   ],
   "source": [
    "ttest_pval=sp.stats.ttest_ind(group1.sm_ctr,\n",
    "                group2.sm_ctr,\n",
    "                equal_var=False)\n",
    "\n",
    "if ttest_pval[1]>0.05:\n",
    "    print('t-test pvalue: ',ttest_pval[1],', Гипотеза о присутствии отличий не принята')\n",
    "else:\n",
    "    print('t-test pvalue: ',ttest_pval[1],', Гипотеза о присутствии отличий принята')"
   ]
  },
  {
   "cell_type": "code",
   "execution_count": 45,
   "id": "cf379c81-65bd-4711-9f23-2e5092e9430e",
   "metadata": {},
   "outputs": [
    {
     "name": "stdout",
     "output_type": "stream",
     "text": [
      "Mannwhitney pvalue:  1.6163964114270227e-61 , Гипотеза о присутствии отличий принята\n"
     ]
    }
   ],
   "source": [
    "mw_pval=sp.stats.mannwhitneyu(group1.sm_ctr, \n",
    "                   group2.sm_ctr,\n",
    "                   alternative = 'two-sided')\n",
    "\n",
    "if mw_pval[1]>0.05:\n",
    "    print('Mannwhitney pvalue: ',mw_pval[1],', Гипотеза о присутствии отличий не принята')\n",
    "else:\n",
    "    print('Mannwhitney pvalue: ',mw_pval[1],', Гипотеза о присутствии отличий принята')"
   ]
  },
  {
   "cell_type": "raw",
   "id": "84cdd2f9-7548-4851-99dc-cadf7b369b26",
   "metadata": {},
   "source": [
    "\n",
    "\n",
    "\n",
    "\n",
    "Бакетное преобразование"
   ]
  },
  {
   "cell_type": "code",
   "execution_count": 46,
   "id": "58d02e40-5891-4551-9066-d71d690986b1",
   "metadata": {},
   "outputs": [
    {
     "name": "stdout",
     "output_type": "stream",
     "text": [
      "Mannwhitney pvalue:  2.859963936492646e-07 , Гипотеза о присутствии отличий принята\n"
     ]
    }
   ],
   "source": [
    "q = \"\"\"\n",
    "\n",
    "SELECT exp_group, bucket,\n",
    "    sum(likes)/sum(views) as bucket_ctr,\n",
    "    quantileExact(0.9)(ctr) as ctr9\n",
    "FROM (SELECT exp_group, \n",
    "        xxHash64(user_id)%50 as bucket,\n",
    "        user_id,\n",
    "        sum(action = 'like') as likes,\n",
    "        sum(action = 'view') as views,\n",
    "        likes/views as ctr\n",
    "    FROM simulator_20221020.feed_actions \n",
    "    WHERE toDate(time) between '2022-10-03' and '2022-10-09'\n",
    "        and exp_group in (1,2)\n",
    "    GROUP BY exp_group, bucket, user_id)\n",
    "GROUP BY exp_group, bucket\n",
    "\"\"\"\n",
    "\n",
    "df_bucket = ph.read_clickhouse(q, connection=connection)\n",
    "\n",
    "mw_pval=sp.stats.mannwhitneyu(df_bucket[df_bucket.exp_group == 1].bucket_ctr, \n",
    "                   df_bucket[df_bucket.exp_group == 2].bucket_ctr, \n",
    "                   alternative = 'two-sided')\n",
    "\n",
    "if mw_pval[1]>0.05:\n",
    "    print('Mannwhitney pvalue: ',mw_pval[1],', Гипотеза о присутствии отличий не принята')\n",
    "else:\n",
    "    print('Mannwhitney pvalue: ',mw_pval[1],', Гипотеза о присутствии отличий принята')\n",
    "\n"
   ]
  },
  {
   "cell_type": "code",
   "execution_count": 47,
   "id": "a6931ff0-a139-4f5c-9eab-7e929c9bf5bc",
   "metadata": {},
   "outputs": [
    {
     "name": "stdout",
     "output_type": "stream",
     "text": [
      "t-test pvalue:  3.4455951649945907e-07 , Гипотеза о присутствии отличий принята\n"
     ]
    }
   ],
   "source": [
    "ttest_pval=sp.stats.ttest_ind(df_bucket[df_bucket.exp_group == 1].bucket_ctr,\n",
    "                df_bucket[df_bucket.exp_group == 2].bucket_ctr,\n",
    "                equal_var=False)\n",
    "\n",
    "if ttest_pval[1]>0.05:\n",
    "    print('t-test pvalue: ',ttest_pval[1],', Гипотеза о присутствии отличий не принята')\n",
    "else:\n",
    "    print('t-test pvalue: ',ttest_pval[1],', Гипотеза о присутствии отличий принята')"
   ]
  },
  {
   "cell_type": "code",
   "execution_count": 48,
   "id": "a875b3ee-5c64-403e-9c3d-48254d1a6cb4",
   "metadata": {},
   "outputs": [
    {
     "data": {
      "text/plain": [
       "<AxesSubplot:xlabel='bucket_ctr', ylabel='Count'>"
      ]
     },
     "execution_count": 48,
     "metadata": {},
     "output_type": "execute_result"
    },
    {
     "data": {
      "image/png": "[encoded data removed]",
      "text/plain": [
       "<Figure size 842.4x595.44 with 1 Axes>"
      ]
     },
     "metadata": {},
     "output_type": "display_data"
    }
   ],
   "source": [
    "sns.histplot(df_bucket[df_bucket.exp_group==2].bucket_ctr)"
   ]
  },
  {
   "cell_type": "raw",
   "id": "1b5bb23d-adf0-4981-b851-13be71f5f9bd",
   "metadata": {},
   "source": [
    "Как видно из графика выше бакетное преобразование даже немного привело к нормальности ctr второй группы, в которой распределение бимодально. Тесты показали, что отличие в группах есть. "
   ]
  },
  {
   "cell_type": "markdown",
   "id": "414b33c1-b5c1-4e77-8484-66b1458e3761",
   "metadata": {},
   "source": [
    "\n",
    "\n",
    "\n",
    "\n",
    "\n",
    "\n",
    "Пуассоновский бутстрэп"
   ]
  },
  {
   "cell_type": "code",
   "execution_count": 19,
   "id": "311633e3-63c1-4511-bdf6-7deb436ed7d0",
   "metadata": {},
   "outputs": [
    {
     "data": {
      "text/plain": [
       "<AxesSubplot:ylabel='Count'>"
      ]
     },
     "execution_count": 19,
     "metadata": {},
     "output_type": "execute_result"
    },
    {
     "data": {
      "image/png": "[encoded data removed]",
      "text/plain": [
       "<Figure size 842.4x595.44 with 1 Axes>"
      ]
     },
     "metadata": {},
     "output_type": "display_data"
    }
   ],
   "source": [
    "def bootstrap(likes1, views1, likes2, views2, n_bootstrap=2000):\n",
    "\n",
    "    poisson_bootstraps1 = sp.stats.poisson(1).rvs(\n",
    "        (n_bootstrap, len(likes1))).astype(np.int64)\n",
    "\n",
    "    poisson_bootstraps2 = sp.stats.poisson(1).rvs(\n",
    "            (n_bootstrap, len(likes2))).astype(np.int64)\n",
    "    \n",
    "    globalCTR1 = (poisson_bootstraps1*likes1).sum(axis=1)/(poisson_bootstraps1*views1).sum(axis=1)\n",
    "    \n",
    "    globalCTR2 = (poisson_bootstraps2*likes2).sum(axis=1)/(poisson_bootstraps2*views2).sum(axis=1)\n",
    "\n",
    "    return globalCTR1, globalCTR2\n",
    "\n",
    "\n",
    "\n",
    "\n",
    "likes1 = df[df.exp_group == 1].likes.to_numpy()\n",
    "views1 = df[df.exp_group == 1].views.to_numpy()\n",
    "likes2 = df[df.exp_group == 2].likes.to_numpy()\n",
    "views2 = df[df.exp_group == 2].views.to_numpy()\n",
    "\n",
    "ctr1, ctr2 = bootstrap(likes1, views1, likes2, views2)\n",
    "\n",
    "sns.histplot(ctr1)\n",
    "sns.histplot(ctr2)"
   ]
  },
  {
   "cell_type": "code",
   "execution_count": 21,
   "id": "e2bc5e05-02a6-4ad4-bd3c-12e475050949",
   "metadata": {},
   "outputs": [
    {
     "data": {
      "text/plain": [
       "<AxesSubplot:ylabel='Count'>"
      ]
     },
     "execution_count": 21,
     "metadata": {},
     "output_type": "execute_result"
    },
    {
     "data": {
      "image/png": "[encoded data removed]",
      "text/plain": [
       "<Figure size 842.4x595.44 with 1 Axes>"
      ]
     },
     "metadata": {},
     "output_type": "display_data"
    }
   ],
   "source": [
    "sns.histplot(ctr2-ctr1)"
   ]
  },
  {
   "cell_type": "raw",
   "id": "01c7dc54-41f7-42e4-a460-973d2408eee2",
   "metadata": {},
   "source": [
    "По графику Пуассоновского бутстрэпа видно, что CTR уменьшился. По другим тестам видим, что различия есть, и они значимы. Раскатывать алгоритм не стоит."
   ]
  }
 ],
 "metadata": {
  "kernelspec": {
   "display_name": "Python 3 (ipykernel)",
   "language": "python",
   "name": "python3"
  },
  "language_info": {
   "codemirror_mode": {
    "name": "ipython",
    "version": 3
   },
   "file_extension": ".py",
   "mimetype": "text/x-python",
   "name": "python",
   "nbconvert_exporter": "python",
   "pygments_lexer": "ipython3",
   "version": "3.8.10"
  }
 },
 "nbformat": 4,
 "nbformat_minor": 5
}
